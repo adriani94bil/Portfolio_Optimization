{
 "cells": [
  {
   "cell_type": "code",
   "execution_count": 111,
   "metadata": {},
   "outputs": [],
   "source": [
    "# Importing Libraries\n",
    "\n",
    "# Data handling and statistical analysis \n",
    "import pandas as pd\n",
    "from pandas_datareader import data\n",
    "import numpy as np\n",
    "from scipy import stats\n",
    "\n",
    "# Data visualization \n",
    "import matplotlib.pyplot as plt\n",
    "import seaborn as sns\n",
    "import plotly.express as px\n",
    "import plotly.graph_objects as go\n",
    "from plotly.subplots import make_subplots\n",
    "\n",
    "# Optimization and allocation\n",
    "from pypfopt.efficient_frontier import EfficientFrontier\n",
    "from pypfopt import risk_models\n",
    "from pypfopt import expected_returns\n",
    "from pypfopt import black_litterman, BlackLittermanModel\n",
    "from pytz import timezone\n",
    "\n",
    "# Financial data \n",
    "import quantstats as qs\n",
    "import ta\n",
    "import yfinance as yf\n"
   ]
  },
  {
   "cell_type": "code",
   "execution_count": 112,
   "metadata": {},
   "outputs": [],
   "source": [
    "#1   fecha_inicial, la cual podemos modificar a nuestro antojo\n",
    "fecha_inicial = '2020-01-01'\n",
    "\n",
    "#2   fecha_final, la cual podemos modificar a nuestro antojo\n",
    "fecha_final = '2024-11-01'"
   ]
  },
  {
   "cell_type": "code",
   "execution_count": 113,
   "metadata": {},
   "outputs": [
    {
     "name": "stderr",
     "output_type": "stream",
     "text": [
      "[*********************100%***********************]  1 of 1 completed\n",
      "[*********************100%***********************]  1 of 1 completed\n",
      "[*********************100%***********************]  1 of 1 completed\n"
     ]
    }
   ],
   "source": [
    "#jepi_df=yf.download('JEPI',start=fecha_inicial,end=fecha_final, interval='1d')\n",
    "wm_df=yf.download('WM',start=fecha_inicial,end=fecha_final, interval='1d')\n",
    "physical_gold_df=yf.download('IAU',start=fecha_inicial,end=fecha_final, interval='1d')\n",
    "#miners_gold_df=yf.download('GDX',start=fecha_inicial,end=fecha_final, interval='1d')\n",
    "msft_df=yf.download('MSFT',start=fecha_inicial,end=fecha_final, interval='1d')"
   ]
  },
  {
   "cell_type": "code",
   "execution_count": 114,
   "metadata": {},
   "outputs": [
    {
     "data": {
      "text/html": [
       "<div>\n",
       "<style scoped>\n",
       "    .dataframe tbody tr th:only-of-type {\n",
       "        vertical-align: middle;\n",
       "    }\n",
       "\n",
       "    .dataframe tbody tr th {\n",
       "        vertical-align: top;\n",
       "    }\n",
       "\n",
       "    .dataframe thead th {\n",
       "        text-align: right;\n",
       "    }\n",
       "</style>\n",
       "<table border=\"1\" class=\"dataframe\">\n",
       "  <thead>\n",
       "    <tr style=\"text-align: right;\">\n",
       "      <th></th>\n",
       "      <th>WM</th>\n",
       "      <th>IAU</th>\n",
       "      <th>MSFT</th>\n",
       "    </tr>\n",
       "    <tr>\n",
       "      <th>Date</th>\n",
       "      <th></th>\n",
       "      <th></th>\n",
       "      <th></th>\n",
       "    </tr>\n",
       "  </thead>\n",
       "  <tbody>\n",
       "    <tr>\n",
       "      <th>2020-01-02 00:00:00+00:00</th>\n",
       "      <td>105.488968</td>\n",
       "      <td>29.219999</td>\n",
       "      <td>153.938187</td>\n",
       "    </tr>\n",
       "    <tr>\n",
       "      <th>2020-01-03 00:00:00+00:00</th>\n",
       "      <td>106.514091</td>\n",
       "      <td>29.620001</td>\n",
       "      <td>152.021408</td>\n",
       "    </tr>\n",
       "    <tr>\n",
       "      <th>2020-01-06 00:00:00+00:00</th>\n",
       "      <td>107.068230</td>\n",
       "      <td>29.920000</td>\n",
       "      <td>152.414337</td>\n",
       "    </tr>\n",
       "    <tr>\n",
       "      <th>2020-01-07 00:00:00+00:00</th>\n",
       "      <td>107.142128</td>\n",
       "      <td>30.040001</td>\n",
       "      <td>151.024704</td>\n",
       "    </tr>\n",
       "    <tr>\n",
       "      <th>2020-01-08 00:00:00+00:00</th>\n",
       "      <td>107.206802</td>\n",
       "      <td>29.820000</td>\n",
       "      <td>153.430252</td>\n",
       "    </tr>\n",
       "    <tr>\n",
       "      <th>...</th>\n",
       "      <td>...</td>\n",
       "      <td>...</td>\n",
       "      <td>...</td>\n",
       "    </tr>\n",
       "    <tr>\n",
       "      <th>2024-10-25 00:00:00+00:00</th>\n",
       "      <td>206.800003</td>\n",
       "      <td>51.799999</td>\n",
       "      <td>428.149994</td>\n",
       "    </tr>\n",
       "    <tr>\n",
       "      <th>2024-10-28 00:00:00+00:00</th>\n",
       "      <td>208.259995</td>\n",
       "      <td>51.779999</td>\n",
       "      <td>426.589996</td>\n",
       "    </tr>\n",
       "    <tr>\n",
       "      <th>2024-10-29 00:00:00+00:00</th>\n",
       "      <td>219.110001</td>\n",
       "      <td>52.360001</td>\n",
       "      <td>431.950012</td>\n",
       "    </tr>\n",
       "    <tr>\n",
       "      <th>2024-10-30 00:00:00+00:00</th>\n",
       "      <td>214.820007</td>\n",
       "      <td>52.650002</td>\n",
       "      <td>432.529999</td>\n",
       "    </tr>\n",
       "    <tr>\n",
       "      <th>2024-10-31 00:00:00+00:00</th>\n",
       "      <td>215.850006</td>\n",
       "      <td>51.840000</td>\n",
       "      <td>406.350006</td>\n",
       "    </tr>\n",
       "  </tbody>\n",
       "</table>\n",
       "<p>1217 rows × 3 columns</p>\n",
       "</div>"
      ],
      "text/plain": [
       "                                   WM        IAU        MSFT\n",
       "Date                                                        \n",
       "2020-01-02 00:00:00+00:00  105.488968  29.219999  153.938187\n",
       "2020-01-03 00:00:00+00:00  106.514091  29.620001  152.021408\n",
       "2020-01-06 00:00:00+00:00  107.068230  29.920000  152.414337\n",
       "2020-01-07 00:00:00+00:00  107.142128  30.040001  151.024704\n",
       "2020-01-08 00:00:00+00:00  107.206802  29.820000  153.430252\n",
       "...                               ...        ...         ...\n",
       "2024-10-25 00:00:00+00:00  206.800003  51.799999  428.149994\n",
       "2024-10-28 00:00:00+00:00  208.259995  51.779999  426.589996\n",
       "2024-10-29 00:00:00+00:00  219.110001  52.360001  431.950012\n",
       "2024-10-30 00:00:00+00:00  214.820007  52.650002  432.529999\n",
       "2024-10-31 00:00:00+00:00  215.850006  51.840000  406.350006\n",
       "\n",
       "[1217 rows x 3 columns]"
      ]
     },
     "execution_count": 114,
     "metadata": {},
     "output_type": "execute_result"
    }
   ],
   "source": [
    "#jepi_df=jepi_df['Adj Close']\n",
    "wm_df=wm_df['Adj Close']\n",
    "physical_gold_df=physical_gold_df['Adj Close']\n",
    "#miners_gold_df=miners_gold_df['Adj Close']\n",
    "msft_df=msft_df['Adj Close']\n",
    "\n",
    "df=pd.concat([wm_df,physical_gold_df,msft_df], axis=1)\n",
    "df.columns=['WM','IAU','MSFT']\n",
    "df"
   ]
  },
  {
   "cell_type": "code",
   "execution_count": 115,
   "metadata": {},
   "outputs": [],
   "source": [
    "# Calculating the annualized expected returns and the annualized sample covariance matrix\n",
    "mu = expected_returns.mean_historical_return(df) #expected returns\n",
    "S = risk_models.sample_cov(df) #Covariance matrix"
   ]
  },
  {
   "cell_type": "code",
   "execution_count": 116,
   "metadata": {},
   "outputs": [
    {
     "data": {
      "text/plain": [
       "WM      0.159950\n",
       "IAU     0.126157\n",
       "MSFT    0.222817\n",
       "dtype: float64"
      ]
     },
     "execution_count": 116,
     "metadata": {},
     "output_type": "execute_result"
    }
   ],
   "source": [
    "mu"
   ]
  },
  {
   "cell_type": "code",
   "execution_count": 117,
   "metadata": {},
   "outputs": [
    {
     "data": {
      "text/html": [
       "<div>\n",
       "<style scoped>\n",
       "    .dataframe tbody tr th:only-of-type {\n",
       "        vertical-align: middle;\n",
       "    }\n",
       "\n",
       "    .dataframe tbody tr th {\n",
       "        vertical-align: top;\n",
       "    }\n",
       "\n",
       "    .dataframe thead th {\n",
       "        text-align: right;\n",
       "    }\n",
       "</style>\n",
       "<table border=\"1\" class=\"dataframe\">\n",
       "  <thead>\n",
       "    <tr style=\"text-align: right;\">\n",
       "      <th></th>\n",
       "      <th>WM</th>\n",
       "      <th>IAU</th>\n",
       "      <th>MSFT</th>\n",
       "    </tr>\n",
       "  </thead>\n",
       "  <tbody>\n",
       "    <tr>\n",
       "      <th>WM</th>\n",
       "      <td>0.051677</td>\n",
       "      <td>0.003570</td>\n",
       "      <td>0.030334</td>\n",
       "    </tr>\n",
       "    <tr>\n",
       "      <th>IAU</th>\n",
       "      <td>0.003570</td>\n",
       "      <td>0.023713</td>\n",
       "      <td>0.005874</td>\n",
       "    </tr>\n",
       "    <tr>\n",
       "      <th>MSFT</th>\n",
       "      <td>0.030334</td>\n",
       "      <td>0.005874</td>\n",
       "      <td>0.094946</td>\n",
       "    </tr>\n",
       "  </tbody>\n",
       "</table>\n",
       "</div>"
      ],
      "text/plain": [
       "            WM       IAU      MSFT\n",
       "WM    0.051677  0.003570  0.030334\n",
       "IAU   0.003570  0.023713  0.005874\n",
       "MSFT  0.030334  0.005874  0.094946"
      ]
     },
     "execution_count": 117,
     "metadata": {},
     "output_type": "execute_result"
    }
   ],
   "source": [
    "S"
   ]
  },
  {
   "cell_type": "code",
   "execution_count": 118,
   "metadata": {},
   "outputs": [
    {
     "data": {
      "text/plain": [
       "OrderedDict([('WM', 0.23676), ('IAU', 0.56408), ('MSFT', 0.19917)])"
      ]
     },
     "execution_count": 118,
     "metadata": {},
     "output_type": "execute_result"
    }
   ],
   "source": [
    "ef=EfficientFrontier(mu,S)\n",
    "weights=ef.max_sharpe()\n",
    "clean_weights=ef.clean_weights()\n",
    "clean_weights"
   ]
  },
  {
   "cell_type": "code",
   "execution_count": null,
   "metadata": {},
   "outputs": [],
   "source": []
  }
 ],
 "metadata": {
  "kernelspec": {
   "display_name": "Python 3",
   "language": "python",
   "name": "python3"
  },
  "language_info": {
   "codemirror_mode": {
    "name": "ipython",
    "version": 3
   },
   "file_extension": ".py",
   "mimetype": "text/x-python",
   "name": "python",
   "nbconvert_exporter": "python",
   "pygments_lexer": "ipython3",
   "version": "3.11.10"
  }
 },
 "nbformat": 4,
 "nbformat_minor": 2
}
